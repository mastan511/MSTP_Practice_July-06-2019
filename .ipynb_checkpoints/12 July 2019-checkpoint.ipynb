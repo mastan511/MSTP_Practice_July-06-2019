{
 "cells": [
  {
   "cell_type": "code",
   "execution_count": 1,
   "metadata": {},
   "outputs": [
    {
     "name": "stdout",
     "output_type": "stream",
     "text": [
      "2009\n",
      "False\n"
     ]
    }
   ],
   "source": [
    "def is_leap(year):\n",
    "    leap = False\n",
    "    \n",
    "    # Write your logic here\n",
    "    if year%400 == 0 or (year%4==0 and year%100!=0):\n",
    "        leap = True\n",
    "    else:\n",
    "        leap = False\n",
    "    \n",
    "    return leap\n",
    "\n",
    "year = int(input())\n",
    "print(is_leap(year))"
   ]
  },
  {
   "cell_type": "code",
   "execution_count": 5,
   "metadata": {},
   "outputs": [
    {
     "name": "stdout",
     "output_type": "stream",
     "text": [
      "2 \n",
      "12 3 14 15 16\n",
      "15\n"
     ]
    }
   ],
   "source": [
    "def runnerupScore(li):\n",
    "    unique = []\n",
    "    for i in li:\n",
    "        if i not in unique:\n",
    "            unique.append(i)\n",
    "    unique = sorted(unique)\n",
    "    return unique[-2]\n",
    "n = int(input())\n",
    "s = input().split()\n",
    "s=list(map(int,s))\n",
    "print(runnerupScore(s))\n"
   ]
  },
  {
   "cell_type": "code",
   "execution_count": 6,
   "metadata": {},
   "outputs": [
    {
     "name": "stdout",
     "output_type": "stream",
     "text": [
      "2\n",
      "mastan 10 20 30\n",
      "vali 20 40 60\n",
      "vali\n",
      "40.00\n"
     ]
    }
   ],
   "source": [
    "t = int(input())\n",
    "d = []\n",
    "\n",
    "for i in range(0,t):\n",
    "    markswithname = input().split(\" \")\n",
    "    # print(marks)\n",
    "    # print(type(marks))\n",
    "    d.append(markswithname)\n",
    "sname = input()\n",
    "avg = 0\n",
    "for name in d:\n",
    "    if sname==name[0]:\n",
    "        avg = sum(list(map(float,[i for i in name[1:]])))/len(name[1:])\n",
    "print(\"%.2f\" %avg)"
   ]
  },
  {
   "cell_type": "code",
   "execution_count": 7,
   "metadata": {},
   "outputs": [
    {
     "name": "stdout",
     "output_type": "stream",
     "text": [
      "3\n",
      "1 2 3 4 5\n",
      "8315274433719620810\n"
     ]
    }
   ],
   "source": [
    "tuple_len = int(input())\n",
    "\n",
    "a = tuple(map(int, input().split(' ')))\n",
    "print(hash(a))\n"
   ]
  },
  {
   "cell_type": "code",
   "execution_count": null,
   "metadata": {},
   "outputs": [],
   "source": []
  }
 ],
 "metadata": {
  "kernelspec": {
   "display_name": "Python 3",
   "language": "python",
   "name": "python3"
  },
  "language_info": {
   "codemirror_mode": {
    "name": "ipython",
    "version": 3
   },
   "file_extension": ".py",
   "mimetype": "text/x-python",
   "name": "python",
   "nbconvert_exporter": "python",
   "pygments_lexer": "ipython3",
   "version": "3.7.3"
  }
 },
 "nbformat": 4,
 "nbformat_minor": 2
}
