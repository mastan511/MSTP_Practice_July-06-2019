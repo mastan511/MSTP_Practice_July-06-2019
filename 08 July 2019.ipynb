{
 "cells": [
  {
   "cell_type": "markdown",
   "metadata": {},
   "source": [
    "### Problem Set:\n",
    "- Function to print all numbers divisible by 6 and not a factor of 100 in a given range(lb, ub) inclusive\n",
    "- Function to find the average of cubes of all even numbers in a given range(lb, ub) inclusive\n",
    "- Function to generate the list of factors for a given number\n",
    "- Function to calculate the factorial of a given number\n",
    "- Function to check if a given number is Prime\n",
    "- Function to calculate the average first N Prime numbers\n",
    "- Function to generate all Perfect numbers in a given range\n",
    "### Advanced Problem Set( Optional )\n",
    "- Function to calculate the average of all factorials in a given range\n",
    "- Function to generate N odd Armstrong numbers\n",
    "- Function to generate Multiplication table for a number in a given range\n",
    "            10 in the range(100, 102) inclusive\n",
    "            10 x 100 = 1000\n",
    "            10 x 101 = 1010\n",
    "            10 x 102 = 1020\n",
    "            Problems That needs a Try\n",
    "### Problem\n",
    "            \n",
    " - You are given a string and your task is to swap cases. In other words, convert all lowercase letters to uppercase letters and vice versa. (The String may contain special characters).\n",
    "- Given an integer, ’n’ , perform the following conditional actions:\n",
    "        If ‘n’  is odd, print Weird\n",
    "        If  ‘n’ is even and in the inclusive range of 2 to 5, print Not Weird\n",
    "        If  ‘n’ is even and in the inclusive range of 6 to 20 , print Weird\n",
    "        If  ‘n’ is even and greater than 20, print Not Weird\n",
    "        \n",
    "### Problem\n",
    "\n",
    "- Given the participants ‘n’ score sheet for your University Sports Day, you are required to find the runner-up score. You are given scores. Store them in a list and find the score of the runner-up. (there can be multiple winners - if their scores match). \n",
    "\n",
    "\n"
   ]
  },
  {
   "cell_type": "code",
   "execution_count": 1,
   "metadata": {},
   "outputs": [
    {
     "name": "stdout",
     "output_type": "stream",
     "text": [
      "6 12 18 24 30 36 42 48 54 60 66 72 78 84 90 96 "
     ]
    }
   ],
   "source": [
    "# Function to print all numbers divisible by 6 and not a factor of 100 in a given range(lb, ub) inclusive\n",
    "def divisibleby6(lb,ub):\n",
    "    for i in range(lb,ub+1):\n",
    "        if i%6 == 0 and i%100!=0:\n",
    "            print(i,end = \" \")\n",
    "    return\n",
    "divisibleby6(1,100)"
   ]
  },
  {
   "cell_type": "code",
   "execution_count": 6,
   "metadata": {},
   "outputs": [
    {
     "name": "stdout",
     "output_type": "stream",
     "text": [
      "2 4 6 8 10 12 14 16 18 20 22 24 26 28 30 32 34 36 38 40 42 44 46 48 50 52 54 56 58 60 62 64 66 68 70 72 74 76 78 80 82 84 86 88 90 92 94 96 98 100 "
     ]
    },
    {
     "data": {
      "text/plain": [
       "260100.0"
      ]
     },
     "execution_count": 6,
     "metadata": {},
     "output_type": "execute_result"
    }
   ],
   "source": [
    "#Function to find the average of cubes of all even numbers in a given range(lb, ub) inclusive\n",
    "def cubesofAverage(lb,ub):\n",
    "    sum = 0\n",
    "    count = 0\n",
    "    for i in range(lb,ub+1):\n",
    "        if i%2 == 0:\n",
    "            print(i,end=\" \")\n",
    "            sum+=i**3\n",
    "            count+=1\n",
    "    avg = sum/count\n",
    "    return avg\n",
    "cubesofAverage(1,100)\n",
    "            "
   ]
  },
  {
   "cell_type": "code",
   "execution_count": 11,
   "metadata": {},
   "outputs": [
    {
     "name": "stdout",
     "output_type": "stream",
     "text": [
      "1 2 3 4 6 "
     ]
    }
   ],
   "source": [
    "#Function to generate the list of factors for a given number\n",
    "def generateFactors(n):\n",
    "    for i in range(1,n):\n",
    "        if n%i == 0:\n",
    "            print(i,end=\" \")\n",
    "generateFactors(12)"
   ]
  },
  {
   "cell_type": "code",
   "execution_count": 14,
   "metadata": {},
   "outputs": [
    {
     "data": {
      "text/plain": [
       "120"
      ]
     },
     "execution_count": 14,
     "metadata": {},
     "output_type": "execute_result"
    }
   ],
   "source": [
    "#Function to calculate the factorial of a given number\n",
    "def factorial(n):\n",
    "    fact = 1\n",
    "    for i in range(1,n+1):\n",
    "        fact = fact*i\n",
    "    return fact\n",
    "factorial(5)"
   ]
  },
  {
   "cell_type": "code",
   "execution_count": 28,
   "metadata": {},
   "outputs": [
    {
     "data": {
      "text/plain": [
       "False"
      ]
     },
     "execution_count": 28,
     "metadata": {},
     "output_type": "execute_result"
    }
   ],
   "source": [
    "#Function to check if a given number is Prime\n",
    "def isPrime(n):\n",
    "    count = 0\n",
    "    for i in range(1,n+1):\n",
    "        if n%i == 0:\n",
    "            count+=1\n",
    "    if count == 2:\n",
    "         return True\n",
    "    else:\n",
    "        return False\n",
    "isPrime(12)"
   ]
  },
  {
   "cell_type": "code",
   "execution_count": 33,
   "metadata": {},
   "outputs": [
    {
     "data": {
      "text/plain": [
       "3.3333333333333335"
      ]
     },
     "execution_count": 33,
     "metadata": {},
     "output_type": "execute_result"
    }
   ],
   "source": [
    "#Function to calculate the average first N Prime numbers\n",
    "def averageofFirstNprimenumbers(n):\n",
    "    sum = 0\n",
    "    count = 0\n",
    "    for i in range(0,n):\n",
    "        if isPrime(i):\n",
    "            sum+=i\n",
    "            count+=1\n",
    "    return sum/count\n",
    "averageofFirstNprimenumbers(6)\n",
    "\n",
    "    \n",
    "    "
   ]
  },
  {
   "cell_type": "code",
   "execution_count": 40,
   "metadata": {},
   "outputs": [
    {
     "name": "stdout",
     "output_type": "stream",
     "text": [
      "6\n",
      "28\n"
     ]
    }
   ],
   "source": [
    "#Function to generate all Perfect numbers in a given range\n",
    "def generatePerfectNumbers(lb,ub):\n",
    "    for i in range(lb,ub):\n",
    "        if isPerfect(i):\n",
    "            print(i)\n",
    "            \n",
    "def isPerfect(n):\n",
    "    sum = 0\n",
    "    temp = n\n",
    "    for i in range(1,n):\n",
    "        if n%i == 0:\n",
    "            sum+=i\n",
    "    if temp == sum:\n",
    "        return True\n",
    "    else:\n",
    "        return False\n",
    "isPerfect(3)\n",
    "generatePerfectNumbers(1,30)\n",
    "    "
   ]
  },
  {
   "cell_type": "markdown",
   "metadata": {},
   "source": [
    "### Advanced Problem Set( Optional )¶"
   ]
  },
  {
   "cell_type": "code",
   "execution_count": 42,
   "metadata": {},
   "outputs": [
    {
     "data": {
      "text/plain": [
       "45457.0"
      ]
     },
     "execution_count": 42,
     "metadata": {},
     "output_type": "execute_result"
    }
   ],
   "source": [
    "#Function to calculate the average of all factorials in a given range\n",
    "def averageofFactorials(lb,ub):\n",
    "    fact = 1\n",
    "    sum = 0\n",
    "    count = 0\n",
    "    for i in range(lb,ub):\n",
    "        fact = fact*i\n",
    "        sum+=fact\n",
    "        count+=1\n",
    "    return sum/count\n",
    "averageofFactorials(1,10)\n",
    "        \n",
    "        "
   ]
  },
  {
   "cell_type": "code",
   "execution_count": null,
   "metadata": {},
   "outputs": [],
   "source": [
    "#Function to generate N odd Armstrong numbers\n",
    "def nOddAmstrongNumbers(n):\n",
    "    \n",
    "    "
   ]
  },
  {
   "cell_type": "code",
   "execution_count": 47,
   "metadata": {},
   "outputs": [
    {
     "name": "stdout",
     "output_type": "stream",
     "text": [
      "10 X 100 = 1000\n",
      "10 X 101 = 1010\n",
      "10 X 102 = 1020\n"
     ]
    }
   ],
   "source": [
    "#Function to generate Multiplication table for a number in a given range\n",
    "\n",
    "#       10 in the range(100, 102) inclusive\n",
    "#       10 x 100 = 1000\n",
    "#       10 x 101 = 1010\n",
    "#       10 x 102 = 1020\n",
    "#       Problems That needs a Try\n",
    "def multiplicationTable(n,lb,ub):\n",
    "    for i in range(lb,ub+1):\n",
    "        res = n*i\n",
    "        print(n,\"X\",i,\"=\",res)\n",
    "    return\n",
    "multiplicationTable(10,100,102)\n",
    "    "
   ]
  },
  {
   "cell_type": "code",
   "execution_count": null,
   "metadata": {},
   "outputs": [],
   "source": [
    "# Problem\n",
    "# You are given a string and your task is to swap cases. In other words, \n",
    "#convert all lowercase letters to uppercase letters and vice versa. (The String may contain special characters).\n",
    "def letterCaseConversion(s):\n",
    "    for i in range(len(s)):\n",
    "        if s[i].isupper():\n",
    "            \n",
    "\n",
    "\n",
    "\n"
   ]
  },
  {
   "cell_type": "code",
   "execution_count": 52,
   "metadata": {},
   "outputs": [
    {
     "name": "stdout",
     "output_type": "stream",
     "text": [
      " Not Weird\n"
     ]
    }
   ],
   "source": [
    "# Given an integer, ’n’ , perform the following conditional actions:\n",
    "# If ‘n’  is odd, print Weird\n",
    "# If  ‘n’ is even and in the inclusive range of 2 to 5, print Not Weird\n",
    "# If  ‘n’ is even and in the inclusive range of 6 to 20 , print Weird\n",
    "# If  ‘n’ is even and greater than 20, print Not Weird\n",
    "\n",
    "def performingOperations(n):\n",
    "    if n%2!=0:\n",
    "        print(\"Weird\")\n",
    "    else:\n",
    "        if n in range(2,6):\n",
    "            print(\"Not Weird\")\n",
    "        elif n in range(6,21):\n",
    "            print(\"Weird\")\n",
    "        elif n>20:\n",
    "            print(\" Not Weird\")\n",
    "performingOperations(30)\n",
    "        "
   ]
  },
  {
   "cell_type": "code",
   "execution_count": 53,
   "metadata": {},
   "outputs": [
    {
     "name": "stdout",
     "output_type": "stream",
     "text": [
      "5\n",
      "10 20 30 30 10\n",
      "20\n"
     ]
    }
   ],
   "source": [
    "#Given the participants ‘n’ score sheet for your University Sports Day, \n",
    "#you are required to find the runner-up score. You are given scores. \n",
    "#Store them in a list and find the score of the runner-up. (there can be multiple winners - if their scores match).\n",
    "def runnerupScore(li):\n",
    "    unique = []\n",
    "    for i in li:\n",
    "        if i not in unique:\n",
    "            unique.append(i)\n",
    "    unique = sorted(unique)\n",
    "    return unique[-2]\n",
    "n = int(input())\n",
    "s = input().split()\n",
    "s=list(map(int,s))\n",
    "print(runnerupScore(s))\n",
    "\n"
   ]
  },
  {
   "cell_type": "code",
   "execution_count": null,
   "metadata": {},
   "outputs": [],
   "source": []
  }
 ],
 "metadata": {
  "kernelspec": {
   "display_name": "Python 3",
   "language": "python",
   "name": "python3"
  },
  "language_info": {
   "codemirror_mode": {
    "name": "ipython",
    "version": 3
   },
   "file_extension": ".py",
   "mimetype": "text/x-python",
   "name": "python",
   "nbconvert_exporter": "python",
   "pygments_lexer": "ipython3",
   "version": "3.7.3"
  }
 },
 "nbformat": 4,
 "nbformat_minor": 2
}
