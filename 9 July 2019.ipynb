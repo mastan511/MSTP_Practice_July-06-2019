{
 "cells": [
  {
   "cell_type": "code",
   "execution_count": 28,
   "metadata": {},
   "outputs": [
    {
     "name": "stdout",
     "output_type": "stream",
     "text": [
      "2\n"
     ]
    },
    {
     "data": {
      "text/plain": [
       "{1: 6, 2: 12, 3: 2, 4: 2}"
      ]
     },
     "execution_count": 28,
     "metadata": {},
     "output_type": "execute_result"
    }
   ],
   "source": [
    "# Find the Highest freqent element in the list\n",
    "def highestFreqentElement(li):\n",
    "    d = {}\n",
    "    for i in range(len(li)):\n",
    "        if li[i] not in d:\n",
    "            d[li[i]] = 1\n",
    "        else:\n",
    "            d[li[i]]+=1\n",
    "    highestfreq = max(d.values())\n",
    "    for item in d.items():\n",
    "        if item[1] == highestfreq:\n",
    "            print(item[0])\n",
    "    return d\n",
    "    \n",
    "highestFreqentElement([1,1,1,1,1,1,2,2,2,2,2,2,2,2,2,2,2,2,3,3,4,4])"
   ]
  },
  {
   "cell_type": "code",
   "execution_count": 27,
   "metadata": {},
   "outputs": [
    {
     "name": "stdout",
     "output_type": "stream",
     "text": [
      "4\n"
     ]
    },
    {
     "data": {
      "text/plain": [
       "{1: 6, 2: 12, 3: 2, 4: 8}"
      ]
     },
     "execution_count": 27,
     "metadata": {},
     "output_type": "execute_result"
    }
   ],
   "source": [
    "#Find the secondHighest freqent element in the list\n",
    "def secondHighestfreqelement(li):\n",
    "    d = {}\n",
    "    for i in li:\n",
    "        if i not in d:\n",
    "            d[i] = 1\n",
    "        else:\n",
    "            d[i]+=1\n",
    "    l = sorted(d.values())\n",
    "    secondHifreq = l[2]\n",
    "    for item in d.items():\n",
    "        if item[1] == secondHifreq:\n",
    "            print(item[0])\n",
    "    return d\n",
    "\n",
    "secondHighestfreqelement([1,1,1,1,1,1,2,2,2,2,2,2,2,2,2,2,2,2,3,3,4,4,4,4,4,4,4,4])"
   ]
  },
  {
   "cell_type": "code",
   "execution_count": 26,
   "metadata": {},
   "outputs": [
    {
     "name": "stdout",
     "output_type": "stream",
     "text": [
      "3\n"
     ]
    },
    {
     "data": {
      "text/plain": [
       "{1: 6, 2: 12, 3: 2, 4: 8}"
      ]
     },
     "execution_count": 26,
     "metadata": {},
     "output_type": "execute_result"
    }
   ],
   "source": [
    "#find the lowest freqent element in the list\n",
    "def lowestelementfreqelement(li):\n",
    "    d = {}\n",
    "    for i in li:\n",
    "        if i not in d:\n",
    "            d[i] = 1\n",
    "        else:\n",
    "            d[i]+=1\n",
    "    lowestfreq = min(d.values())\n",
    "    for item in d.items():\n",
    "        if item[1] == lowestfreq:\n",
    "            print(item[0])\n",
    "    return d\n",
    "lowestelementfreqelement([1,1,1,1,1,1,2,2,2,2,2,2,2,2,2,2,2,2,3,3,4,4,4,4,4,4,4,4])"
   ]
  },
  {
   "cell_type": "code",
   "execution_count": 25,
   "metadata": {},
   "outputs": [
    {
     "name": "stdout",
     "output_type": "stream",
     "text": [
      "1\n"
     ]
    },
    {
     "data": {
      "text/plain": [
       "{1: 6, 2: 12, 3: 2, 4: 8}"
      ]
     },
     "execution_count": 25,
     "metadata": {},
     "output_type": "execute_result"
    }
   ],
   "source": [
    "#find the second lowest frequent element in the list\n",
    "def secondLowestfreqElement(li):\n",
    "    d = {}\n",
    "    for i in li:\n",
    "        if i not in d:\n",
    "            d[i] = 1\n",
    "        else:\n",
    "            d[i]+=1\n",
    "    l = sorted(d.values(),reverse = True)\n",
    "    secondLowestfreqvalue = l[2]\n",
    "    for item in d.items():\n",
    "        if item[1] == secondLowestfreqvalue:\n",
    "            print(item[0])\n",
    "    return d\n",
    "secondLowestfreqElement([1,1,1,1,1,1,2,2,2,2,2,2,2,2,2,2,2,2,3,3,4,4,4,4,4,4,4,4])"
   ]
  },
  {
   "cell_type": "code",
   "execution_count": 50,
   "metadata": {},
   "outputs": [
    {
     "name": "stdout",
     "output_type": "stream",
     "text": [
      "3\n"
     ]
    },
    {
     "data": {
      "text/plain": [
       "[12, 8, 6, 2]"
      ]
     },
     "execution_count": 50,
     "metadata": {},
     "output_type": "execute_result"
    }
   ],
   "source": [
    "#find the kth highest frequent element in the list\n",
    "def kthHighestfreqentelement(li,k):\n",
    "    d = {}\n",
    "    for i in li:\n",
    "        if i not in d:\n",
    "            d[i] = 1\n",
    "        else:\n",
    "            d[i]+=1\n",
    "    uniquefreq = list(set(d.values()))\n",
    "#     for value in d.values():\n",
    "#         if value not in uniquefreq:\n",
    "#             uniquefreq.append(value)\n",
    "    \n",
    "    uniquefreq = sorted(uniquefreq,reverse = True)\n",
    "    kthHighestfreq = uniquefreq[k]\n",
    "    for item in d.items():\n",
    "        if item[1] == kthHighestfreq:\n",
    "            print(item[0])\n",
    "    return uniquefreq\n",
    "kthHighestfreqentelement([1,1,1,1,1,1,2,2,2,2,2,2,2,2,2,2,2,2,3,3,4,4,4,4,4,4,4,4],3)"
   ]
  },
  {
   "cell_type": "code",
   "execution_count": null,
   "metadata": {},
   "outputs": [],
   "source": []
  },
  {
   "cell_type": "code",
   "execution_count": 49,
   "metadata": {},
   "outputs": [
    {
     "data": {
      "text/plain": [
       "{'a': 1,\n",
       " 'b': 2,\n",
       " 'c': 3,\n",
       " 'd': 4,\n",
       " 'e': 5,\n",
       " 'f': 6,\n",
       " 'g': 7,\n",
       " 'h': 8,\n",
       " 'i': 9,\n",
       " 'j': 10,\n",
       " 'k': 11,\n",
       " 'l': 12,\n",
       " 'm': 13,\n",
       " 'n': 14,\n",
       " 'o': 15,\n",
       " 'p': 16,\n",
       " 'q': 17,\n",
       " 'r': 18,\n",
       " 's': 19,\n",
       " 't': 20,\n",
       " 'u': 21,\n",
       " 'v': 22,\n",
       " 'w': 23,\n",
       " 'x': 24,\n",
       " 'y': 25,\n",
       " 'z': 26}"
      ]
     },
     "execution_count": 49,
     "metadata": {},
     "output_type": "execute_result"
    }
   ],
   "source": [
    "# Characters to number\n",
    "# a-1\n",
    "# b-2\n",
    "# c-3\n",
    "# .\n",
    "# .\n",
    "# .\n",
    "#z-26\n",
    "d = {}\n",
    "t=1\n",
    "for i in range(97,123):\n",
    "    d[chr(i)]=t\n",
    "    t+=1\n",
    "d"
   ]
  },
  {
   "cell_type": "code",
   "execution_count": 55,
   "metadata": {},
   "outputs": [
    {
     "data": {
      "text/plain": [
       "'aaddffs'"
      ]
     },
     "execution_count": 55,
     "metadata": {},
     "output_type": "execute_result"
    }
   ],
   "source": [
    "s='afdsafd'\n",
    "s=sorted(s)\n",
    "s=''.join(s)\n",
    "s"
   ]
  },
  {
   "cell_type": "markdown",
   "metadata": {},
   "source": [
    "### 9 July 2019 Exam Problems and solutions"
   ]
  },
  {
   "cell_type": "code",
   "execution_count": null,
   "metadata": {},
   "outputs": [],
   "source": [
    "#Odd Exit\n",
    "li = []\n",
    "while True:\n",
    "    n = input()\n",
    "    if n == 'EXIT':\n",
    "        break\n",
    "    n = int(n)\n",
    "    if n%2 == 0:\n",
    "        print(n,end=\" \")\n",
    "        li.append(n)\n",
    "    print(\"\\n\")\n",
    "    print(max(li))\n"
   ]
  },
  {
   "cell_type": "code",
   "execution_count": null,
   "metadata": {},
   "outputs": [],
   "source": [
    "n = int(input())\n",
    "d={}\n",
    "for i in range(n):\n",
    "    iurl = input()\n",
    "    print(iurl.split('.'))\n",
    "print(iurl[-1])\n",
    "    "
   ]
  },
  {
   "cell_type": "code",
   "execution_count": null,
   "metadata": {},
   "outputs": [],
   "source": []
  }
 ],
 "metadata": {
  "kernelspec": {
   "display_name": "Python 3",
   "language": "python",
   "name": "python3"
  },
  "language_info": {
   "codemirror_mode": {
    "name": "ipython",
    "version": 3
   },
   "file_extension": ".py",
   "mimetype": "text/x-python",
   "name": "python",
   "nbconvert_exporter": "python",
   "pygments_lexer": "ipython3",
   "version": "3.7.3"
  }
 },
 "nbformat": 4,
 "nbformat_minor": 2
}
