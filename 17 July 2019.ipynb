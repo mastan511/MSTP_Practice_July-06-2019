{
 "cells": [
  {
   "cell_type": "code",
   "execution_count": 5,
   "metadata": {},
   "outputs": [
    {
     "name": "stdout",
     "output_type": "stream",
     "text": [
      "5\n",
      "Harsha\n",
      "20\n",
      "Beria\n",
      "20\n",
      "Varun\n",
      "19\n",
      "Kakunami\n",
      "19\n",
      "Vikas\n",
      "21\n",
      "[19.0, 20.0, 21.0]\n",
      "20.0\n",
      "['Beria', 'Harsha']\n",
      "Beria\n",
      "Harsha\n"
     ]
    }
   ],
   "source": [
    "#Nested Lists\n",
    "n = int(input())\n",
    "sl = []\n",
    "for i in range(n):\n",
    "    ss = []\n",
    "    s = input()\n",
    "    m = float(input())\n",
    "    ss.append(s)\n",
    "    ss.append(m)\n",
    "    sl.append(ss)\n",
    "li = []\n",
    "for j in range(0,len(sl)):\n",
    "    if sl[j][1] not in li:\n",
    "        li.append(sl[j][1])\n",
    "li = sorted(li)\n",
    "print(li)\n",
    "value = li[1]\n",
    "print(value)\n",
    "l = []\n",
    "for k in range(0,len(sl)):\n",
    "    if sl[k][1] == value:\n",
    "        l.append(sl[k][0])\n",
    "\n",
    "l = sorted(l)\n",
    "print(l)\n",
    "for d in l:\n",
    "    print(d)\n",
    "\n",
    "# Harsh\n",
    "# 20\n",
    "# Beria\n",
    "# 20\n",
    "# Varun\n",
    "# 19\n",
    "# Kakunami\n",
    "# 19\n",
    "# Vikas\n",
    "# 21\n",
    "\n",
    "# Beria\n",
    "# Harsh"
   ]
  },
  {
   "cell_type": "code",
   "execution_count": 12,
   "metadata": {},
   "outputs": [
    {
     "name": "stdout",
     "output_type": "stream",
     "text": [
      "0b10\n"
     ]
    }
   ],
   "source": [
    "a = bin(2)\n",
    "print(a)"
   ]
  },
  {
   "cell_type": "code",
   "execution_count": 10,
   "metadata": {},
   "outputs": [
    {
     "data": {
      "text/plain": [
       "'0xa'"
      ]
     },
     "execution_count": 10,
     "metadata": {},
     "output_type": "execute_result"
    }
   ],
   "source": [
    "hex(10)"
   ]
  },
  {
   "cell_type": "code",
   "execution_count": 8,
   "metadata": {},
   "outputs": [
    {
     "data": {
      "text/plain": [
       "'0o2'"
      ]
     },
     "execution_count": 8,
     "metadata": {},
     "output_type": "execute_result"
    }
   ],
   "source": [
    "oct(2)"
   ]
  },
  {
   "cell_type": "code",
   "execution_count": null,
   "metadata": {},
   "outputs": [],
   "source": [
    "# itertools.product()\n",
    "\n",
    "# 37/115 challenges solved\n",
    "# Rank: 36825|Points: 441\n",
    "# Python\n",
    "from itertools import product\n",
    "A = list(map(int,input().split()))\n",
    "B = list(map(int,input().split()))\n",
    "C = []\n",
    "C.append(A)\n",
    "C.append(B)\n",
    "d = product(*C)\n",
    "for i in d:\n",
    "    print(i,end = \" \")\n"
   ]
  },
  {
   "cell_type": "code",
   "execution_count": 14,
   "metadata": {},
   "outputs": [
    {
     "name": "stdout",
     "output_type": "stream",
     "text": [
      "ABCD 3\n",
      "ABC\n",
      "ABD\n",
      "ACB\n",
      "ACD\n",
      "ADB\n",
      "ADC\n",
      "BAC\n",
      "BAD\n",
      "BCA\n",
      "BCD\n",
      "BDA\n",
      "BDC\n",
      "CAB\n",
      "CAD\n",
      "CBA\n",
      "CBD\n",
      "CDA\n",
      "CDB\n",
      "DAB\n",
      "DAC\n",
      "DBA\n",
      "DBC\n",
      "DCA\n",
      "DCB\n"
     ]
    }
   ],
   "source": [
    "from itertools import permutations\n",
    "s = input().split()\n",
    "s1 = list(s[0])\n",
    "k =int(s[1])\n",
    "m = sorted(list(permutations(s1,k)))\n",
    "for i in range(0,len(m)):\n",
    "    print(\"\".join(m[i]))"
   ]
  },
  {
   "cell_type": "code",
   "execution_count": null,
   "metadata": {},
   "outputs": [],
   "source": []
  }
 ],
 "metadata": {
  "kernelspec": {
   "display_name": "Python 3",
   "language": "python",
   "name": "python3"
  },
  "language_info": {
   "codemirror_mode": {
    "name": "ipython",
    "version": 3
   },
   "file_extension": ".py",
   "mimetype": "text/x-python",
   "name": "python",
   "nbconvert_exporter": "python",
   "pygments_lexer": "ipython3",
   "version": "3.7.3"
  }
 },
 "nbformat": 4,
 "nbformat_minor": 2
}
