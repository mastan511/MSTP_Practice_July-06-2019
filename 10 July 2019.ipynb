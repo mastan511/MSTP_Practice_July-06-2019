{
 "cells": [
  {
   "cell_type": "markdown",
   "metadata": {},
   "source": [
    "### Practicing the Problems from Java T point Programs"
   ]
  },
  {
   "cell_type": "code",
   "execution_count": 6,
   "metadata": {},
   "outputs": [
    {
     "name": "stdout",
     "output_type": "stream",
     "text": [
      "! . . ? ! "
     ]
    },
    {
     "data": {
      "text/plain": [
       "5"
      ]
     },
     "execution_count": 6,
     "metadata": {},
     "output_type": "execute_result"
    }
   ],
   "source": [
    "#Program to count the total number of punctuation characters exists in a string\n",
    "#Explanation\n",
    "# Input:\n",
    "\n",
    "# char str [] = \"Good Morning! Mr. James Potter. Had your breakfast?\"\n",
    "# Output:\n",
    "\n",
    "# If any character in the string is matched with ('!', \",\" ,\"\\'\" ,\";\" ,\"\\\"\", \".\", \"-\" ,\"?\"), increment the count by 1.\n",
    "\n",
    "# Total number of punctuation characters exists in string: 4\n",
    "def numberOfPunctuationCharacters(s):\n",
    "    count = 0\n",
    "    for i in range(0,len(s)):\n",
    "        if s[i] in ('!', \",\" ,\"\\'\" ,\";\" ,\"\\\"\", \".\", \"-\" ,\"?\"):\n",
    "            print(s[i],end = \" \")\n",
    "            count+=1\n",
    "    return count\n",
    "s = \"Good Morning! Mr. James Potter. Had your breakfast?!\"\n",
    "numberOfPunctuationCharacters(s)"
   ]
  },
  {
   "cell_type": "code",
   "execution_count": 11,
   "metadata": {},
   "outputs": [
    {
     "name": "stdout",
     "output_type": "stream",
     "text": [
      "!\n",
      ".\n"
     ]
    },
    {
     "data": {
      "text/plain": [
       "(2, {'!': 2, '.': 2, '?': 1})"
      ]
     },
     "execution_count": 11,
     "metadata": {},
     "output_type": "execute_result"
    }
   ],
   "source": [
    "# Find the most frequent panctuation character \n",
    "def numberOfPunctuationCharacters(s):\n",
    "    count = 0\n",
    "    d = {}\n",
    "    for i in range(0,len(s)):\n",
    "        if s[i] in ('!', \",\" ,\"\\'\" ,\";\" ,\"\\\"\", \".\", \"-\" ,\"?\"):\n",
    "            if s[i] not in d:\n",
    "                d[s[i]] = 1\n",
    "            else:\n",
    "                d[s[i]]+=1\n",
    "    highestFreq = max(d.values())\n",
    "    for items in d.items():\n",
    "        if items[1] == highestFreq:\n",
    "            print(items[0])\n",
    "            count+=1\n",
    "    return count,d\n",
    "s = \"Good Morning! Mr. James Potter. Had your breakfast?!\"\n",
    "numberOfPunctuationCharacters(s)"
   ]
  },
  {
   "cell_type": "code",
   "execution_count": 15,
   "metadata": {},
   "outputs": [
    {
     "name": "stdout",
     "output_type": "stream",
     "text": [
      "Number of Vouwels 10\n",
      "Number of consonants 17\n"
     ]
    }
   ],
   "source": [
    "#Program to count the total number of vowels and consonants in a string\n",
    "# Input:\n",
    "\n",
    "# str = \"This is a really simple sentence\"\n",
    "# Output:\n",
    "\n",
    "# vowels = a, e, i, o, u\n",
    "# consonants = b, c, d, f, g, h, j, k, l, m, n, p, q, r, s, t, v, w, x, y, z\n",
    "def numberofVowelsandConsonants(s):\n",
    "    vowelsCount = 0\n",
    "    consonantCount = 0\n",
    "    for i in range(0,len(s)):\n",
    "        if s[i] in ('a','e','i','o','u'):\n",
    "            vowelsCount+=1\n",
    "        elif s[i] in ('b', 'c', 'd', 'f', 'g', 'h', 'j', 'k', 'l', 'm', 'n', 'p', 'q', 'r', 's', 't', 'v', 'w', 'x', 'y', 'z'):\n",
    "            consonantCount+=1\n",
    "    print(\"Number of Vouwels \"+str(vowelsCount))\n",
    "    print(\"Number of consonants \"+str(consonantCount))\n",
    "s = \"This is a really simple sentence\"\n",
    "s = s.lower()\n",
    "numberofVowelsandConsonants(s)\n",
    "            \n"
   ]
  },
  {
   "cell_type": "code",
   "execution_count": 23,
   "metadata": {},
   "outputs": [
    {
     "name": "stdout",
     "output_type": "stream",
     "text": [
      "The given strings are anagram\n",
      "ailv\n",
      "ailv\n"
     ]
    }
   ],
   "source": [
    "#Program to determine whether two strings are the anagram\n",
    "# Input:\n",
    "\n",
    "# Two Strings are called the anagram if they contain the same characters. However, \n",
    "#the order or sequence of the characters can be different.\n",
    "\n",
    "# str1 = \"Grab\";\n",
    "# str2 = \"Brag\";\n",
    "# Output:\n",
    "\n",
    "# Both the strings are anagram.\n",
    "\n",
    "def anagram(s1,s2):\n",
    "    s1 = sorted(list(s1.lower()))\n",
    "    s2 = sorted(list(s2.lower()))\n",
    "    s1 = \"\".join(s1)\n",
    "    s2 = \"\".join(s2)\n",
    "    if s1 == s2:\n",
    "        print('The given strings are anagram')\n",
    "    else:\n",
    "        print('Not Anagram')\n",
    "    print(s1)\n",
    "    print(s2)\n",
    "s1 = \"ilav\"\n",
    "s2 = \"vali\"\n",
    "anagram(s1,s2)"
   ]
  },
  {
   "cell_type": "code",
   "execution_count": 36,
   "metadata": {},
   "outputs": [
    {
     "name": "stdout",
     "output_type": "stream",
     "text": [
      "4\n",
      "{'d', 'b', 'e', 'a'}\n",
      "Not Anagram\n",
      "dec\n",
      "bca\n"
     ]
    }
   ],
   "source": [
    "#Given two strings, a and b , that may or may not be of the same length, \n",
    "#determine the minimum number of character deletions required to make a and b anagrams. \n",
    "#Any characters can be deleted from either of the strings.\n",
    "def anagram(s1,s2):\n",
    "    s1 = set(sorted(list(s1.lower())))\n",
    "    s2 = set(sorted(list(s2.lower())))\n",
    "    a1 = s1.difference(s2)\n",
    "    b2 = s2.difference(s1)\n",
    "    c = a1.union(b2)\n",
    "    count = len(c)\n",
    "    print(count)\n",
    "    print(c)\n",
    "    s1 = \"\".join(s1)\n",
    "    s2 = \"\".join(s2)\n",
    "    if s1 == s2:\n",
    "        print('The given strings are anagram')\n",
    "    else:\n",
    "        print('Not Anagram')\n",
    "    print(s1)\n",
    "    print(s2)\n",
    "s1 = \"cde\"\n",
    "s2 = \"abc\"\n",
    "anagram(s1,s2)\n",
    "\n",
    "# def anagram(a,b):\n",
    "#     c=0\n",
    "#     for i in set(a):\n",
    "#         if a.count(i)==b.count(i):\n",
    "#             c += a.count(i)\n",
    "#         else:\n",
    "#             c += min([a.count(i),b.count(i)])\n",
    "#     print(len(a)  + len(b) - 2  * c)\n",
    "# t = int(input())\n",
    "# for i in range(t):\n",
    "#     a=input()\n",
    "#     b=input()\n",
    "#     anagram(a,b) "
   ]
  },
  {
   "cell_type": "code",
   "execution_count": 58,
   "metadata": {},
   "outputs": [
    {
     "name": "stdout",
     "output_type": "stream",
     "text": [
      "12       2\n",
      "Sorry this string cannot be divided into \n"
     ]
    }
   ],
   "source": [
    "#Program to divide a string in 'N' equal parts\n",
    "# Input:\n",
    "\n",
    "# str = \"aaaabbbbcccc\"\n",
    "# Output:\n",
    "\n",
    "# Equal parts of given string are\n",
    "# aaaa\n",
    "# bbbb\n",
    "# cccc\n",
    "def stringNequalParts(s,n):\n",
    "    l = len(s)\n",
    "    characters = l//n\n",
    "    allsubstr = []\n",
    "    print(l,\"     \",characters)\n",
    "    if l%n!=0:\n",
    "        print(\"Sorry this string cannot be divided into \")  \n",
    "    else:\n",
    "        for i in range(0,l,characters):\n",
    "            substr = s[i:i+characters]\n",
    "            allsubstr.append(substr)\n",
    "    for i in allsubstr:\n",
    "        print(i)\n",
    "            \n",
    "            \n",
    "str = \"aaaabbbbcccc\"\n",
    "stringNequalParts(str,5)\n",
    "        "
   ]
  },
  {
   "cell_type": "code",
   "execution_count": 59,
   "metadata": {},
   "outputs": [
    {
     "name": "stdout",
     "output_type": "stream",
     "text": [
      "All the permutations of the string are: \n",
      "ABC\n",
      "ACB\n",
      "BAC\n",
      "BCA\n",
      "CBA\n",
      "CAB\n"
     ]
    }
   ],
   "source": [
    "#Program to find all the permutations of a string\n",
    "def generatePermutation(string,start,end):  \n",
    "    current = 0;  \n",
    "    #Prints the permutations  \n",
    "    if(start == end-1):  \n",
    "        print(string);  \n",
    "    else:   \n",
    "        for current in range(start,end):  \n",
    "  \n",
    "       #Swapping the string by fixing a character  \n",
    "            x = list(string);  \n",
    "            temp = x[start];  \n",
    "            x[start] = x[current];  \n",
    "            x[current] = temp;  \n",
    "  \n",
    "      #Recursively calling function generatePermutation() for rest of the characters  \n",
    "  \n",
    "            generatePermutation(\"\".join(x),start+1,end);  \n",
    "            #Swapping the string by fixing a character  \n",
    "            temp = x[start];  \n",
    "            x[start] = x[current];  \n",
    "            x[current] = temp;  \n",
    "  \n",
    "str = \"ABC\"  \n",
    "n = len(str);  \n",
    "print(\"All the permutations of the string are: \");  \n",
    "generatePermutation(str,0,n);  "
   ]
  },
  {
   "cell_type": "code",
   "execution_count": 2,
   "metadata": {},
   "outputs": [
    {
     "name": "stdout",
     "output_type": "stream",
     "text": [
      "15\n",
      "['A', 'AB', 'ABC', 'ABCD', 'ABCDE', 'B', 'BC', 'BCD', 'BCDE', 'C', 'CD', 'CDE', 'D', 'DE', 'E'] "
     ]
    }
   ],
   "source": [
    "#Program to find all possible subsets of a string\n",
    "# Input:\n",
    "\n",
    "# str = \"ABC\"\n",
    "# Output:\n",
    "\n",
    "# All subsets for given string are:\n",
    "# A\n",
    "# AB\n",
    "# ABC\n",
    "# B\n",
    "# BC\n",
    "# C\n",
    "#All the possible subsets for a string will be n*(n + 1)/2.\n",
    "def possibleSubsets(s):\n",
    "    c = len(s)*(len(s)+1)//2\n",
    "    print(c)\n",
    "    allsubstr = []\n",
    "    for i in range(len(s)):  \n",
    "    #This loop will add a character to start character one by one till the end is reached  \n",
    "        for j in range(i,len(s)):\n",
    "            allsubstr.append(s[i:(j+1)]);\n",
    "    print(allsubstr,end=\" \")\n",
    "    return \n",
    "s = 'ABCDE'\n",
    "possibleSubsets(s)\n",
    "    \n"
   ]
  },
  {
   "cell_type": "code",
   "execution_count": 3,
   "metadata": {},
   "outputs": [
    {
     "data": {
      "text/plain": [
       "'Thisismastanvali'"
      ]
     },
     "execution_count": 3,
     "metadata": {},
     "output_type": "execute_result"
    }
   ],
   "source": [
    "#Program to remove all the white spaces from a string\n",
    "def removewhitespaces(s):\n",
    "    return s.replace(\" \",\"\")\n",
    "s = \"This is mastan vali\"\n",
    "removewhitespaces(s)"
   ]
  },
  {
   "cell_type": "code",
   "execution_count": 6,
   "metadata": {},
   "outputs": [
    {
     "data": {
      "text/plain": [
       "'mAStAN'"
      ]
     },
     "execution_count": 6,
     "metadata": {},
     "output_type": "execute_result"
    }
   ],
   "source": [
    "#Program to replace lower-case characters with upper-case and vice versa\n",
    "def swapcaseOfString(s):\n",
    "    return s.swapcase()\n",
    "s = \"MasTan\"\n",
    "swapcaseOfString(s)"
   ]
  },
  {
   "cell_type": "code",
   "execution_count": 8,
   "metadata": {},
   "outputs": [
    {
     "data": {
      "text/plain": [
       "'Mastan-VAli'"
      ]
     },
     "execution_count": 8,
     "metadata": {},
     "output_type": "execute_result"
    }
   ],
   "source": [
    "#Program to replace the spaces of a string with a specific character\n",
    "def replacementofCharacter(s):\n",
    "    return s.replace(\" \",\"-\")\n",
    "s = \"Mastan VAli\"\n",
    "replacementofCharacter(s)"
   ]
  },
  {
   "cell_type": "code",
   "execution_count": 17,
   "metadata": {},
   "outputs": [
    {
     "name": "stdout",
     "output_type": "stream",
     "text": [
      "mastanvali\n"
     ]
    },
    {
     "data": {
      "text/plain": [
       "10"
      ]
     },
     "execution_count": 17,
     "metadata": {},
     "output_type": "execute_result"
    }
   ],
   "source": [
    "#Program to Count the Total Number of Characters in a String\n",
    "def numberofCharactersinString(s):\n",
    "    return len(s)\n",
    "s = \"mastan vali\"\n",
    "s = s.replace(\" \",\"\")\n",
    "print(s)\n",
    "numberofCharactersinString(list(s))"
   ]
  },
  {
   "cell_type": "code",
   "execution_count": 21,
   "metadata": {},
   "outputs": [
    {
     "data": {
      "text/plain": [
       "5"
      ]
     },
     "execution_count": 21,
     "metadata": {},
     "output_type": "execute_result"
    }
   ],
   "source": [
    "#Program to Count the Total Number of Words in a String\n",
    "def number_of_words_inString(s):\n",
    "    s = s.split(\" \")\n",
    "    return len(s)\n",
    "s = \"mastan vali from Android team\"\n",
    "number_of_words_inString(s)"
   ]
  },
  {
   "cell_type": "code",
   "execution_count": 17,
   "metadata": {},
   "outputs": [
    {
     "data": {
      "text/plain": [
       "True"
      ]
     },
     "execution_count": 17,
     "metadata": {},
     "output_type": "execute_result"
    }
   ],
   "source": [
    "#Program to Determine Whether a Given String is Palindrome\n",
    "def palindrome(s):\n",
    "    if s == s[::-1]:\n",
    "        return True\n",
    "    else:\n",
    "        return False\n",
    "palindrome(\"ABA\")\n"
   ]
  },
  {
   "cell_type": "code",
   "execution_count": 20,
   "metadata": {},
   "outputs": [
    {
     "name": "stdout",
     "output_type": "stream",
     "text": [
      "Second string is not a rotation of first string\n"
     ]
    }
   ],
   "source": [
    "#Program to Determine Whether One String is a Rotation of Another\n",
    "def stringRotation(s1,s2):\n",
    "    if len(s1)!=len(s2):\n",
    "        print(\"Second string is not a rotation of first string\")\n",
    "    else:\n",
    "        try:\n",
    "            s = s1+s1\n",
    "            if s.index(len(s2)):\n",
    "                print(\"Second string is a rotation of first string\")\n",
    "        except:\n",
    "            print(\"Second string is not a rotation of first string\")\n",
    "s1 = \"abcde\"  \n",
    "s2 = \"deabc\"\n",
    "stringRotation(s1,s2)\n",
    "            \n",
    "        \n",
    "        "
   ]
  },
  {
   "cell_type": "code",
   "execution_count": 26,
   "metadata": {},
   "outputs": [
    {
     "name": "stdout",
     "output_type": "stream",
     "text": [
      "lowest repeated character in s  a Highest reapeated character in s   \n",
      "Highest reapeated character in s  e\n",
      "lowest repeated character in s  d "
     ]
    }
   ],
   "source": [
    "#Program to Find Maximum and Minimum Occurring Character in a String\n",
    "def characterOcuuring(s):\n",
    "    d = {}\n",
    "    for c in s:\n",
    "        if c not in d:\n",
    "            d[c] = 1\n",
    "        else:\n",
    "            d[c]+=1\n",
    "    highest = max(d.values())\n",
    "    lowest = min(d.values())\n",
    "    for item in d.items():\n",
    "        if item[1] == highest:\n",
    "            print(\"Highest reapeated character in s \",item[0])\n",
    "        elif item[1] == lowest:\n",
    "            print(\"lowest repeated character in s \",item[0],end = \" \")\n",
    "string = \"grass is greener on the other side\"\n",
    "characterOcuuring(string)"
   ]
  },
  {
   "cell_type": "code",
   "execution_count": null,
   "metadata": {},
   "outputs": [],
   "source": [
    "#Program to Check Disarium number\n",
    "def checkDisarium(n):\n",
    "    n = temp\n",
    "    "
   ]
  },
  {
   "cell_type": "code",
   "execution_count": 28,
   "metadata": {},
   "outputs": [
    {
     "name": "stdout",
     "output_type": "stream",
     "text": [
      "Enter any decimal number: 16\n",
      "10000"
     ]
    }
   ],
   "source": [
    "#Decimal number to binary\n",
    "def decimalToBinary(num):\n",
    "    \"\"\"This function converts decimal number\n",
    "    to binary and prints it\"\"\"\n",
    "    if num > 1:\n",
    "        decimalToBinary(num // 2)\n",
    "    print(num % 2, end='')\n",
    "\n",
    "\n",
    "# decimal number\n",
    "number = int(input(\"Enter any decimal number: \"))\n",
    "\n",
    "decimalToBinary(number)"
   ]
  },
  {
   "cell_type": "code",
   "execution_count": 38,
   "metadata": {},
   "outputs": [
    {
     "name": "stdout",
     "output_type": "stream",
     "text": [
      "12\n"
     ]
    }
   ],
   "source": [
    "#Binary to decimal\n",
    "def binaryToDecimal(binary):  \n",
    "    decimal, i= 0, 0\n",
    "    while(binary != 0): \n",
    "        dec = binary % 10\n",
    "        decimal = decimal + dec * pow(2, i) \n",
    "        binary = binary//10\n",
    "        i+=1\n",
    "    print(decimal)     \n",
    "binaryToDecimal(1100)\n",
    "    "
   ]
  },
  {
   "cell_type": "code",
   "execution_count": null,
   "metadata": {},
   "outputs": [],
   "source": [
    "# li = []\n",
    "# while True:\n",
    "#     s = input()\n",
    "#     if s == 'EXIT':\n",
    "#         break\n",
    "#     else:\n",
    "#         n = int(s)\n",
    "#         if n%2 == 0:\n",
    "#             li.append(n)\n",
    "#             print(li)"
   ]
  },
  {
   "cell_type": "code",
   "execution_count": 15,
   "metadata": {},
   "outputs": [
    {
     "name": "stdout",
     "output_type": "stream",
     "text": [
      "c\n"
     ]
    }
   ],
   "source": [
    "d = {'a':1,'b':2,'c':3}\n",
    "for item in d.items():\n",
    "    if item[1] == 3:\n",
    "        print(item[0])"
   ]
  },
  {
   "cell_type": "code",
   "execution_count": 46,
   "metadata": {},
   "outputs": [
    {
     "name": "stdout",
     "output_type": "stream",
     "text": [
      "3\n",
      "re\n",
      "3 3 3\n",
      "rw\n",
      "3 45 5\n",
      "qw\n",
      "3 2 4\n",
      "{'re': ['3', '3', '3'], 'rw': ['3', '45', '5'], 'qw': ['3', '2', '4']}\n"
     ]
    }
   ],
   "source": [
    "t = int(input())\n",
    "d = {}\n",
    "for i in range(t):\n",
    "    name = input()\n",
    "#     marks = list(map(float,input().split(\" \")))\n",
    "    marks = input().split(\" \")\n",
    "    d[name]=marks\n",
    "print(d)\n",
    "# sname = input()\n",
    "# if sname in d.keys():\n",
    "#     for item in d.items():\n",
    "#         if item[0] == sname:\n",
    "#             s = sum(map(int,item[1]))\n",
    "#             l = len(item[1])\n",
    "# avg = s/l\n",
    "# print(avg)\n"
   ]
  },
  {
   "cell_type": "code",
   "execution_count": null,
   "metadata": {},
   "outputs": [],
   "source": [
    "#Additive Inverse\n",
    "t = int(input())\n",
    "for i in range(t):\n",
    "    s = 0\n",
    "    li = input().split()\n",
    "    li = list(map(int,li))\n",
    "    for j in li:\n",
    "        s+=j*-1\n",
    "    print(s)\n",
    "        "
   ]
  },
  {
   "cell_type": "code",
   "execution_count": null,
   "metadata": {},
   "outputs": [],
   "source": [
    "#panDigital\n",
    "n = int(input())\n",
    "for i in range(n):\n",
    "    num = input()\n",
    "    num = set(num)\n",
    "    if len(num) == 10:\n",
    "        print(True)\n",
    "    else:\n",
    "        print(False)"
   ]
  },
  {
   "cell_type": "code",
   "execution_count": null,
   "metadata": {},
   "outputs": [],
   "source": [
    "#Encryption\n",
    "n = int(input())"
   ]
  }
 ],
 "metadata": {
  "kernelspec": {
   "display_name": "Python 3",
   "language": "python",
   "name": "python3"
  },
  "language_info": {
   "codemirror_mode": {
    "name": "ipython",
    "version": 3
   },
   "file_extension": ".py",
   "mimetype": "text/x-python",
   "name": "python",
   "nbconvert_exporter": "python",
   "pygments_lexer": "ipython3",
   "version": "3.7.3"
  }
 },
 "nbformat": 4,
 "nbformat_minor": 2
}
