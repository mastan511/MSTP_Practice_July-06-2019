{
 "cells": [
  {
   "cell_type": "code",
   "execution_count": 1,
   "metadata": {},
   "outputs": [
    {
     "name": "stdout",
     "output_type": "stream",
     "text": [
      "1\n",
      "ravi\n",
      "45 78 60\n",
      "{'ravi': ['45', '78', '60']}\n",
      "ravi\n",
      "61.0\n"
     ]
    }
   ],
   "source": [
    "t = int(input())\n",
    "d = {}\n",
    "for i in range(t):\n",
    "    name = input()\n",
    "    marks = input().split(\" \")\n",
    "    # print(marks)\n",
    "    # print(type(marks))\n",
    "    d[name]=marks\n",
    "print(d)\n",
    "sname = input()\n",
    "if sname in d.keys():\n",
    "    for item in d.items():\n",
    "        if item[0] == sname:\n",
    "            s = sum(map(float,item[1]))\n",
    "            l = len(item[1])\n",
    "avg = s/l\n",
    "print(avg)"
   ]
  },
  {
   "cell_type": "code",
   "execution_count": 11,
   "metadata": {},
   "outputs": [
    {
     "name": "stdout",
     "output_type": "stream",
     "text": [
      "True\n"
     ]
    }
   ],
   "source": [
    "s=\"qa2\"\n",
    "flag=0\n",
    "for i in range(0,len(s)):\n",
    "    if (s[i]>=chr(97) and s[i]<=chr(122)):\n",
    "        flag+=1\n",
    "if flag>0:\n",
    "    print(\"True\")\n",
    "else:\n",
    "    print(\"False\")"
   ]
  },
  {
   "cell_type": "code",
   "execution_count": 6,
   "metadata": {},
   "outputs": [
    {
     "data": {
      "text/plain": [
       "'a'"
      ]
     },
     "execution_count": 6,
     "metadata": {},
     "output_type": "execute_result"
    }
   ],
   "source": [
    "chr(97)"
   ]
  },
  {
   "cell_type": "code",
   "execution_count": 16,
   "metadata": {},
   "outputs": [
    {
     "name": "stdout",
     "output_type": "stream",
     "text": [
      "qa2\n",
      "True\n",
      "True\n",
      "True\n",
      "True\n",
      "False\n"
     ]
    }
   ],
   "source": [
    "s = input()\n",
    "flag=0\n",
    "for i in range(0,len(s)):\n",
    "    if ((s[i]>=chr(97) and s[i]<=chr(122))or (s[i]>=chr(65) and s[i]<=chr(90)) or (s[i]>=chr(0) and s[i]<=chr(255))):\n",
    "        flag+=1\n",
    "if flag>0:\n",
    "    print(\"True\")\n",
    "else:\n",
    "    print(\"False\")\n",
    "flag=0\n",
    "for i in range(0,len(s)):\n",
    "    if ((s[i]>=chr(97) and s[i]<=chr(122))or (s[i]>=chr(65) and s[i]<=chr(90))):\n",
    "        flag+=1\n",
    "if flag>0:\n",
    "    print(\"True\")\n",
    "else:\n",
    "    print(\"False\")\n",
    "flag=0\n",
    "for i in range(0,len(s)):\n",
    "    if ((s[i]>=chr(48) and s[i]<=chr(57))):\n",
    "        flag+=1\n",
    "if flag>0:\n",
    "    print(\"True\")\n",
    "else:\n",
    "    print(\"False\")\n",
    "flag=0\n",
    "for i in range(0,len(s)):\n",
    "    if (s[i]>=chr(97) and s[i]<=chr(122)):\n",
    "        flag+=1\n",
    "if flag>0:\n",
    "    print(\"True\")\n",
    "else:\n",
    "    print(\"False\")\n",
    "flag=0\n",
    "for i in range(0,len(s)):\n",
    "    if (s[i]>=chr(65) and s[i]<=chr(90)):\n",
    "        flag+=1\n",
    "if flag>0:\n",
    "    print(\"True\")\n",
    "else:\n",
    "    print(\"False\")"
   ]
  },
  {
   "cell_type": "code",
   "execution_count": 19,
   "metadata": {},
   "outputs": [
    {
     "name": "stdout",
     "output_type": "stream",
     "text": [
      "4\n"
     ]
    }
   ],
   "source": [
    "n = 0\n",
    "for i in range(1,int(input())):\n",
    "    n += 1 #More than 2 lines will result in 0 score. Do not leave \n",
    "    for j in range(i,n):\n",
    "        print(j,end=\"\")"
   ]
  },
  {
   "cell_type": "code",
   "execution_count": null,
   "metadata": {},
   "outputs": [],
   "source": [
    "n1 = int(input())\n",
    "a = input().split()\n",
    "n2 = int(input())\n",
    "b = input().split()\n",
    "c = a.difference(b)\n",
    "d = b.difference(a)\n",
    "print(len(c.union(d)))"
   ]
  },
  {
   "cell_type": "code",
   "execution_count": 4,
   "metadata": {},
   "outputs": [
    {
     "name": "stdout",
     "output_type": "stream",
     "text": [
      "1\n",
      "12\n",
      "331\n"
     ]
    }
   ],
   "source": [
    "#Pentagonal Number Solution\n",
    "\n",
    "n = int(input())\n",
    "for i in range(n):\n",
    "    n1 = int(input())\n",
    "    sum = 1\n",
    "    for j in range(2,n1+1):\n",
    "        sum+=(j-1)*5\n",
    "    print(sum)\n",
    "        "
   ]
  },
  {
   "cell_type": "code",
   "execution_count": 7,
   "metadata": {},
   "outputs": [
    {
     "name": "stdout",
     "output_type": "stream",
     "text": [
      "1\n",
      "word word disjoint test\n",
      "Invalid\n"
     ]
    }
   ],
   "source": [
    "#shiritori Game\n",
    "n = int(input())\n",
    "for i in range(n):\n",
    "    s = input().split()\n",
    "    if len(s) == 1:\n",
    "        print(\"Valid\")\n",
    "    else:\n",
    "        status = True\n",
    "        for i in range(1,len(s)):\n",
    "            word1 = s[i]\n",
    "            word2 = s[i-1]\n",
    "            if word1[0]!=word2[-1]:\n",
    "                status = False\n",
    "        for i in s:\n",
    "            if s.count(i)>1:\n",
    "                status = False\n",
    "        if status:\n",
    "            print(\"Valid\")\n",
    "        else:\n",
    "            print(\"Invalid\")"
   ]
  },
  {
   "cell_type": "code",
   "execution_count": null,
   "metadata": {},
   "outputs": [],
   "source": []
  }
 ],
 "metadata": {
  "kernelspec": {
   "display_name": "Python 3",
   "language": "python",
   "name": "python3"
  },
  "language_info": {
   "codemirror_mode": {
    "name": "ipython",
    "version": 3
   },
   "file_extension": ".py",
   "mimetype": "text/x-python",
   "name": "python",
   "nbconvert_exporter": "python",
   "pygments_lexer": "ipython3",
   "version": "3.7.3"
  }
 },
 "nbformat": 4,
 "nbformat_minor": 2
}
