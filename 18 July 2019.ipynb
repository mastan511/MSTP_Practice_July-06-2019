{
 "cells": [
  {
   "cell_type": "code",
   "execution_count": 9,
   "metadata": {},
   "outputs": [
    {
     "data": {
      "text/plain": [
       "90"
      ]
     },
     "execution_count": 9,
     "metadata": {},
     "output_type": "execute_result"
    }
   ],
   "source": [
    "ord('A')\n",
    "ord('Z')\n"
   ]
  },
  {
   "cell_type": "code",
   "execution_count": 33,
   "metadata": {},
   "outputs": [
    {
     "name": "stdout",
     "output_type": "stream",
     "text": [
      "0 48\n",
      "1 49\n",
      "2 50\n",
      "3 51\n",
      "4 52\n",
      "5 53\n",
      "6 54\n",
      "7 55\n",
      "8 56\n",
      "9 57\n"
     ]
    }
   ],
   "source": [
    "for i in range(0,10):\n",
    "    print(i,ord(str(i)))"
   ]
  },
  {
   "cell_type": "code",
   "execution_count": 34,
   "metadata": {},
   "outputs": [
    {
     "name": "stdout",
     "output_type": "stream",
     "text": [
      "10\n",
      "Motu\n"
     ]
    }
   ],
   "source": [
    "# Bricks Game\n",
    "n = int(input())\n",
    "status = False\n",
    "if n!=0 and n>0:\n",
    "    for i in range(1,n,2):\n",
    "            status = True\n",
    "            #print(\"Motu\")\n",
    "if status:\n",
    "    print(\"Motu\")\n",
    "else:\n",
    "    print(\"Patlu\")\n",
    "    \n",
    "    "
   ]
  },
  {
   "cell_type": "code",
   "execution_count": 35,
   "metadata": {},
   "outputs": [
    {
     "name": "stdout",
     "output_type": "stream",
     "text": [
      "123X34-DD\n",
      "invalid\n"
     ]
    }
   ],
   "source": [
    "# Ali and Helping innocent people\n",
    "a = input()\n",
    "if((ord(a[0])+ord(a[1]))%2==0 and (ord(a[3])+ord(a[4]))%2==0 and (ord(a[5])+ord(a[4]))%2==0 and (ord(a[7])+ord(a[8]))%2==0 and a[2] not in (\"A\",\"E\",\"I\",\"O\",\"U\",\"Y\")):\n",
    "  print(\"valid\")\n",
    "else:\n",
    "  print(\"invalid\")"
   ]
  },
  {
   "cell_type": "code",
   "execution_count": 37,
   "metadata": {},
   "outputs": [
    {
     "name": "stdout",
     "output_type": "stream",
     "text": [
      "12345677890\n",
      "Illegal ISBN\n"
     ]
    }
   ],
   "source": [
    "# Book of Potion making\n",
    "n = list(map(int,input()))\n",
    "sum = 0\n",
    "if len(n)!=10:\n",
    "    print(\"Illegal ISBN\")\n",
    "else:\n",
    "    for i in range(0,len(n)):\n",
    "        c =i*n[i]\n",
    "        sum+=c\n",
    "    if sum%11!=0:\n",
    "        print(\"Legal ISBN\")\n",
    "    else:\n",
    "        print(\"Illegal ISBN\")"
   ]
  },
  {
   "cell_type": "code",
   "execution_count": 44,
   "metadata": {},
   "outputs": [
    {
     "data": {
      "text/plain": [
       "5"
      ]
     },
     "execution_count": 44,
     "metadata": {},
     "output_type": "execute_result"
    }
   ],
   "source": [
    "a = [[1,2,3],[4,5,6],[7,8,9]]\n",
    "a[1][1]"
   ]
  },
  {
   "cell_type": "code",
   "execution_count": 50,
   "metadata": {},
   "outputs": [
    {
     "name": "stdout",
     "output_type": "stream",
     "text": [
      "10\n",
      "*   *\n",
      "*   *\n",
      "*****\n",
      "*   *\n",
      "*   *\n",
      "*****\n",
      "*   *\n",
      "*   *\n",
      "*****\n",
      "*   *\n",
      "*   *\n",
      "*****\n",
      "*   *\n",
      "*   *\n",
      "*****\n",
      "*   *\n",
      "*   *\n",
      "*****\n",
      "*   *\n",
      "*   *\n",
      "*****\n",
      "*   *\n",
      "*   *\n",
      "*****\n",
      "*   *\n",
      "*   *\n",
      "*****\n",
      "*   *\n",
      "*   *\n",
      "*****\n",
      "*   *  \n",
      "*   *\n"
     ]
    }
   ],
   "source": [
    "# Ladderophilia\n",
    "lower = '''*   *  \n",
    "*   *'''\n",
    "upper = '''*   *\n",
    "*   *\n",
    "*****'''\n",
    "n = int(input())\n",
    "for i in range(n):\n",
    "    print(upper)\n",
    "print(lower)\n"
   ]
  },
  {
   "cell_type": "code",
   "execution_count": 7,
   "metadata": {},
   "outputs": [
    {
     "name": "stdout",
     "output_type": "stream",
     "text": [
      "2\n",
      "5\n",
      "3\n",
      "0\n",
      "4\n",
      "1\n"
     ]
    }
   ],
   "source": [
    "li = [-3,2,3,-4,3,1]\n",
    "print(sum(li[0:]))\n",
    "print(sum(li[1:]))\n",
    "print(sum(li[2:]))\n",
    "print(sum(li[3:]))\n",
    "print(sum(li[4:]))\n",
    "print(sum(li[5:]))"
   ]
  },
  {
   "cell_type": "code",
   "execution_count": 2,
   "metadata": {},
   "outputs": [
    {
     "data": {
      "text/plain": [
       "6"
      ]
     },
     "execution_count": 2,
     "metadata": {},
     "output_type": "execute_result"
    }
   ],
   "source": [
    "c = sum([1,2,3])\n",
    "c"
   ]
  },
  {
   "cell_type": "code",
   "execution_count": null,
   "metadata": {},
   "outputs": [],
   "source": [
    "#Best Index\n",
    "def bestIndex(li):\n",
    "    s = 0\n",
    "    specialSum = []\n",
    "    for i in range(-1,len(li)):\n",
    "        s+=sum(li[i+1:])\n",
    "        specialSum.append(s)\n",
    "        if i == 1:\n",
    "            s+=sum(li[i+1:4])\n",
    "            specialSum.append(s)\n",
    "            continue\n",
    "    print(specialSum)\n",
    "    return max(specialSum)\n",
    "n = int(input())\n",
    "m = list(map(int,input().split()))\n",
    "print(bestIndex(m))\n"
   ]
  }
 ],
 "metadata": {
  "kernelspec": {
   "display_name": "Python 3",
   "language": "python",
   "name": "python3"
  },
  "language_info": {
   "codemirror_mode": {
    "name": "ipython",
    "version": 3
   },
   "file_extension": ".py",
   "mimetype": "text/x-python",
   "name": "python",
   "nbconvert_exporter": "python",
   "pygments_lexer": "ipython3",
   "version": "3.7.3"
  }
 },
 "nbformat": 4,
 "nbformat_minor": 2
}
